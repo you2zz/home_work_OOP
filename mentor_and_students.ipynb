{
 "cells": [
  {
   "cell_type": "code",
   "execution_count": 39,
   "metadata": {},
   "outputs": [
    {
     "name": "stdout",
     "output_type": "stream",
     "text": [
      "['Git', 'Python']\n",
      "Michael ['Git', 'Python', 'PHP']\n",
      "{'Python': [8]}\n",
      "{'Python': [7], 'Git': [6]}\n"
     ]
    }
   ],
   "source": [
    "class Student:\n",
    "    def __init__(self, name, surname, gender):\n",
    "        self.name = name\n",
    "        self.surname = surname\n",
    "        self.gender = gender\n",
    "        self.finished_courses = []\n",
    "        self.courses_in_progress = []\n",
    "        self.grades = {}\n",
    "    \n",
    "    def rate_hw(self, lecturer, course, grade):\n",
    "        if isinstance(lecturer, Lecturer) and course in self.courses_in_progress and course in lecturer.courses_attached:\n",
    "            if course in lecturer.grades:\n",
    "                lecturer.grades[course] += [grade]\n",
    "            else:\n",
    "                lecturer.grades[course] = [grade]\n",
    "        else:\n",
    "            return 'Ошибка'    \n",
    "\n",
    "        \n",
    "class Mentor:\n",
    "    def __init__(self, name, surname):\n",
    "        self.name = name\n",
    "        self.surname = surname\n",
    "        self.courses_attached = []\n",
    "        \n",
    "class Lecturer(Mentor):\n",
    "    # def __init__(self, name, surname):\n",
    "    #     super().__init__(name, surname)\n",
    "    #     self.grades = {}\n",
    "    grades = {}\n",
    "    \n",
    "    \n",
    "class Reviewer(Mentor):\n",
    "    # def __init__(self, name, surname):\n",
    "    #     super().__init__(name, surname)\n",
    "    \n",
    "    def rate_hw(self, student, course, grade):\n",
    "        if isinstance(student, Student) and course in self.courses_attached and course in student.courses_in_progress:\n",
    "            if course in student.grades:\n",
    "                student.grades[course] += [grade]\n",
    "            else:\n",
    "                student.grades[course] = [grade]\n",
    "        else:\n",
    "            return 'Ошибка'\n",
    "         \n",
    "\n",
    "best_student = Student('Ruoy', 'Eman', 'your_gender')\n",
    "best_student.courses_in_progress += ['Python', 'Git']\n",
    " \n",
    "cool_mentor = Mentor('Some', 'Buddy')\n",
    "cool_mentor.courses_attached += ['Python']\n",
    " \n",
    "# cool_mentor.rate_hw(best_student, 'Python', 10)\n",
    "# cool_mentor.rate_hw(best_student, 'Python', 10)\n",
    "# cool_mentor.rate_hw(best_student, 'Python', 10)\n",
    "\n",
    "\n",
    "\n",
    "peter_lecturer = Lecturer('Peter', 'Parker')\n",
    "peter_lecturer.courses_attached += ['Git', 'Python']\n",
    "\n",
    "michael_reviewer = Reviewer('Michael', 'Jackson')\n",
    "michael_reviewer.courses_attached += ['Git', 'Python', 'PHP']\n",
    "michael_reviewer.rate_hw(best_student, 'Python', 8)\n",
    "\n",
    "best_student.rate_hw(peter_lecturer, 'Python', 7)\n",
    "best_student.rate_hw(peter_lecturer, 'Git', 6)\n",
    "\n",
    "print(peter_lecturer.courses_attached)\n",
    "print(michael_reviewer.name, michael_reviewer.courses_attached)\n",
    "print(best_student.grades)\n",
    "print(peter_lecturer.grades)\n"
   ]
  }
 ],
 "metadata": {
  "kernelspec": {
   "display_name": "Python 3",
   "language": "python",
   "name": "python3"
  },
  "language_info": {
   "codemirror_mode": {
    "name": "ipython",
    "version": 3
   },
   "file_extension": ".py",
   "mimetype": "text/x-python",
   "name": "python",
   "nbconvert_exporter": "python",
   "pygments_lexer": "ipython3",
   "version": "3.11.3"
  },
  "orig_nbformat": 4
 },
 "nbformat": 4,
 "nbformat_minor": 2
}
